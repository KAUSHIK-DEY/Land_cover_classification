{
  "nbformat": 4,
  "nbformat_minor": 0,
  "metadata": {
    "colab": {
      "name": "xception network with cocob optimizer.ipynb",
      "provenance": []
    },
    "kernelspec": {
      "name": "python3",
      "display_name": "Python 3"
    },
    "language_info": {
      "name": "python"
    },
    "accelerator": "GPU"
  },
  "cells": [
    {
      "cell_type": "code",
      "metadata": {
        "colab": {
          "base_uri": "https://localhost:8080/"
        },
        "id": "Wkfxdjbihhir",
        "outputId": "8d290578-4ffb-4f26-b356-dc7241c81f55"
      },
      "source": [
        "!wget http://madm.dfki.de/files/sentinel/EuroSAT.zip  # downloading the data"
      ],
      "execution_count": null,
      "outputs": [
        {
          "output_type": "stream",
          "text": [
            "--2021-04-20 04:34:21--  http://madm.dfki.de/files/sentinel/EuroSAT.zip\n",
            "Resolving madm.dfki.de (madm.dfki.de)... 131.246.195.183\n",
            "Connecting to madm.dfki.de (madm.dfki.de)|131.246.195.183|:80... connected.\n",
            "HTTP request sent, awaiting response... 200 OK\n",
            "Length: 94280567 (90M) [application/zip]\n",
            "Saving to: ‘EuroSAT.zip’\n",
            "\n",
            "EuroSAT.zip         100%[===================>]  89.91M  17.8MB/s    in 7.6s    \n",
            "\n",
            "2021-04-20 04:34:29 (11.8 MB/s) - ‘EuroSAT.zip’ saved [94280567/94280567]\n",
            "\n"
          ],
          "name": "stdout"
        }
      ]
    },
    {
      "cell_type": "code",
      "metadata": {
        "id": "PlSeR7Jvhy_x"
      },
      "source": [
        "!unzip EuroSAT.zip   # unzipping the dataset"
      ],
      "execution_count": null,
      "outputs": []
    },
    {
      "cell_type": "code",
      "metadata": {
        "id": "BJOfuQeIhz3G"
      },
      "source": [
        "# importing all the libraries required\n",
        "import matplotlib.pyplot as plt\n",
        "import os\n",
        "import cv2\n",
        "import numpy as np \n",
        "import tensorflow as tf\n",
        "from sklearn.utils import shuffle\n",
        "from sklearn.model_selection import train_test_split\n",
        "import gc\n",
        "from tensorflow.keras.layers import Input, Lambda, Dense, Flatten,Dropout\n",
        "from tensorflow.keras.models import Model\n",
        "from tensorflow.keras.applications.inception_v3 import InceptionV3\n",
        "from tensorflow.keras.applications.inception_v3 import preprocess_input\n",
        "from tensorflow.keras.preprocessing import image\n",
        "from tensorflow.keras.preprocessing.image import ImageDataGenerator,load_img\n",
        "from tensorflow.keras.models import Sequential\n",
        "from tensorflow.keras.applications.resnet50 import ResNet50\n",
        "from tensorflow.keras.applications.resnet50 import preprocess_input\n",
        "from tensorflow.keras.applications.vgg16 import VGG16\n",
        "from tensorflow.keras.applications.nasnet import NASNetLarge\n",
        "from tensorflow.keras.applications.efficientnet import EfficientNetB7\n",
        "from tensorflow.keras.applications.xception import Xception\n",
        "from tensorflow.keras.applications.inception_resnet_v2 import InceptionResNetV2\n"
      ],
      "execution_count": null,
      "outputs": []
    },
    {
      "cell_type": "code",
      "metadata": {
        "id": "8QBEWBs4h59p"
      },
      "source": [
        "# to store the entire training data\n",
        "x_train=[]\n",
        "y_train=[]\n",
        "labels=[]"
      ],
      "execution_count": null,
      "outputs": []
    },
    {
      "cell_type": "code",
      "metadata": {
        "id": "6-2D0bRqh8bg"
      },
      "source": [
        "# load entire training data of size 100 x 100 x 3 to main memory only for resnet and inception network\n",
        "l=os.listdir('/content/2750')\n",
        "string='/content/2750/'\n",
        "count=0\n",
        "for i in l:\n",
        "  l1=os.listdir(string+i+'/')\n",
        "  for j in l1:\n",
        "    img=cv2.imread(string+i+'/'+j)\n",
        "    img=cv2.resize(img,(100,100))\n",
        "    x_train.append(img)\n",
        "    y_train.append(count)\n",
        "  count+=1\n",
        "  labels.append(i)  \n",
        "  \n",
        "  "
      ],
      "execution_count": null,
      "outputs": []
    },
    {
      "cell_type": "code",
      "metadata": {
        "id": "DEPOYBf7h-CV"
      },
      "source": [
        "from tensorflow.python.framework import ops\n",
        "from tensorflow.python.ops import state_ops\n",
        "from tensorflow.python.ops import control_flow_ops\n",
        "from tensorflow.python.framework import constant_op\n",
        "from tensorflow.python.training.optimizer import Optimizer\n",
        "import tensorflow as tf\n",
        "\n",
        "#Coin betting optimizer without a learning rate\n",
        "class COCOB(Optimizer):\n",
        "    def __init__(self, alpha=100, use_locking=False, name='COCOB'):\n",
        "        \n",
        "        super(COCOB, self).__init__(use_locking, name)\n",
        "        self._alpha = alpha\n",
        "\n",
        "    def _create_slots(self, var_list):\n",
        "        for v in var_list:\n",
        "            with ops.colocate_with(v):\n",
        "                gradients_sum = constant_op.constant(0, \n",
        "                                                     shape=v.get_shape(),\n",
        "                                                     dtype=v.dtype.base_dtype)\n",
        "                grad_norm_sum = constant_op.constant(0, \n",
        "                                                     shape=v.get_shape(),\n",
        "                                                     dtype=v.dtype.base_dtype)\n",
        "                L = constant_op.constant(1e-8, shape=v.get_shape(), dtype=v.dtype.base_dtype)\n",
        "                tilde_w = constant_op.constant(0.0, shape=v.get_shape(), dtype=v.dtype.base_dtype)\n",
        "                reward = constant_op.constant(0.0, shape=v.get_shape(), dtype=v.dtype.base_dtype)\n",
        "\n",
        "            self._get_or_make_slot(v, L, \"L\", self._name)\n",
        "            self._get_or_make_slot(v, grad_norm_sum, \"grad_norm_sum\", self._name)\n",
        "            self._get_or_make_slot(v, gradients_sum, \"gradients_sum\", self._name)\n",
        "            self._get_or_make_slot(v, tilde_w, \"tilde_w\", self._name)\n",
        "            self._get_or_make_slot(v, reward, \"reward\", self._name)\n",
        "\n",
        "    def _apply_dense(self, grad, var):\n",
        "        gradients_sum = self.get_slot(var, \"gradients_sum\")\n",
        "        grad_norm_sum = self.get_slot(var, \"grad_norm_sum\")\n",
        "        tilde_w = self.get_slot(var, \"tilde_w\")\n",
        "        L = self.get_slot(var, \"L\")\n",
        "        reward = self.get_slot(var, \"reward\")\n",
        "\n",
        "        L_update = tf.maximum(L,tf.abs(grad))\n",
        "        gradients_sum_update = gradients_sum + grad\n",
        "        grad_norm_sum_update = grad_norm_sum + tf.abs(grad)\n",
        "        reward_update = tf.maximum(reward-grad*tilde_w,0)\n",
        "        new_w = -gradients_sum_update/(L_update*(tf.maximum(grad_norm_sum_update+L_update,self._alpha*L_update)))*(reward_update+L_update)\n",
        "        var_update = var-tilde_w+new_w\n",
        "        tilde_w_update=new_w\n",
        "        \n",
        "        gradients_sum_update_op = state_ops.assign(gradients_sum, gradients_sum_update)\n",
        "        grad_norm_sum_update_op = state_ops.assign(grad_norm_sum, grad_norm_sum_update)\n",
        "        var_update_op = state_ops.assign(var, var_update)\n",
        "        tilde_w_update_op = state_ops.assign(tilde_w, tilde_w_update)\n",
        "        L_update_op = state_ops.assign(L, L_update)\n",
        "        reward_update_op = state_ops.assign(reward, reward_update)\n",
        "\n",
        "        return control_flow_ops.group(*[gradients_sum_update_op,\n",
        "                             var_update_op,\n",
        "                             grad_norm_sum_update_op,\n",
        "                             tilde_w_update_op,\n",
        "                             reward_update_op,\n",
        "                             L_update_op])\n",
        "\n",
        "    def _apply_sparse(self, grad, var):\n",
        "        return self._apply_dense(grad, var)\n",
        "\n",
        "    def _resource_apply_dense(self, grad, handle):\n",
        "        return self._apply_dense(grad, handle)"
      ],
      "execution_count": null,
      "outputs": []
    },
    {
      "cell_type": "code",
      "metadata": {
        "id": "WQ1iCmVjiFRG"
      },
      "source": [
        "# convert dataset from list to array numpy\n",
        "x_train=np.array(x_train)\n",
        "y_train=np.array(y_train)"
      ],
      "execution_count": null,
      "outputs": []
    },
    {
      "cell_type": "code",
      "metadata": {
        "id": "ufA5h52liH1G"
      },
      "source": [
        "# convert labels to categories and float32\n",
        "y_train=tf.keras.utils.to_categorical(y_train,num_classes=10,dtype='float32')"
      ],
      "execution_count": null,
      "outputs": []
    },
    {
      "cell_type": "code",
      "metadata": {
        "id": "SSSmndZNiNpz"
      },
      "source": [
        "# convert x-train to float32\n",
        "x_train=np.array(x_train,dtype='float32')"
      ],
      "execution_count": null,
      "outputs": []
    },
    {
      "cell_type": "code",
      "metadata": {
        "id": "DyyEQurHiKoJ"
      },
      "source": [
        "# shuffle the dataset\n",
        "x_train,y_train=shuffle(x_train,y_train)"
      ],
      "execution_count": null,
      "outputs": []
    },
    {
      "cell_type": "code",
      "metadata": {
        "id": "JSh0JO7ViO1E"
      },
      "source": [
        "# cross validation dataset with train-57% test-40% validation=3% \n",
        "x_1,x_test,y_1,y_test=train_test_split(x_train,y_train,test_size=0.4,shuffle=False)\n",
        "del x_train\n",
        "del y_train\n",
        "x_tr,x_cv,y_tr,y_cv=train_test_split(x_1,y_1,test_size=0.05,shuffle=False)\n",
        "del x_1\n",
        "del y_1"
      ],
      "execution_count": null,
      "outputs": []
    },
    {
      "cell_type": "code",
      "metadata": {
        "id": "omNGN_aHiTAV"
      },
      "source": [
        "# do data augmentation of training data with datagen and testing and validation data with datagentest\n",
        "from keras.preprocessing.image import ImageDataGenerator\n",
        "datagen = ImageDataGenerator(\n",
        "        featurewise_center=False,  # set input mean to 0 over the dataset\n",
        "        samplewise_center=False,  # set each sample mean to 0\n",
        "        featurewise_std_normalization=False,  # divide inputs by std of the dataset\n",
        "        samplewise_std_normalization=False,  # divide each input by its std\n",
        "        zca_whitening=False,  # apply ZCA whitening\n",
        "        rotation_range = 0,  # randomly rotate images in the range (degrees, 0 to 180)\n",
        "        zoom_range = 0.2, # Randomly zoom image \n",
        "        width_shift_range=0.1,  # randomly shift images horizontally (fraction of total width)\n",
        "        height_shift_range=0.1,  # randomly shift images vertically (fraction of total height)\n",
        "        horizontal_flip = True,  # randomly flip images\n",
        "        vertical_flip=True,\n",
        "        rescale=1./255)  # randomly flip images\n",
        "\n",
        "datagentest=ImageDataGenerator(rescale=1./255)\n",
        "datagentest.fit(x_test)\n",
        "datagentest.fit(x_cv)\n",
        "datagen.fit(x_tr)"
      ],
      "execution_count": null,
      "outputs": []
    },
    {
      "cell_type": "markdown",
      "metadata": {
        "id": "lrzvXcKPCndv"
      },
      "source": [
        "#ResNet50 with shape 100 x 100 "
      ]
    },
    {
      "cell_type": "code",
      "metadata": {
        "colab": {
          "base_uri": "https://localhost:8080/"
        },
        "id": "8kwkX0UKiXrj",
        "outputId": "6c820d39-69d4-439b-8258-c76963e9d245"
      },
      "source": [
        "resnet = ResNet50(input_shape=(100,100,3), weights='imagenet', include_top=False)"
      ],
      "execution_count": null,
      "outputs": [
        {
          "output_type": "stream",
          "text": [
            "Downloading data from https://storage.googleapis.com/tensorflow/keras-applications/resnet/resnet50_weights_tf_dim_ordering_tf_kernels_notop.h5\n",
            "94773248/94765736 [==============================] - 1s 0us/step\n"
          ],
          "name": "stdout"
        }
      ]
    },
    {
      "cell_type": "code",
      "metadata": {
        "id": "tlS2lBJEibD8"
      },
      "source": [
        "# inserted our dense network with resnet without last layers\n",
        "modelresnet=tf.keras.models.Sequential()\n",
        "modelresnet.add(resnet)\n",
        "# our network starts from here\n",
        "modelresnet.add(Flatten())\n",
        "modelresnet.add(Dense(1024,activation=tf.keras.layers.LeakyReLU(0.3)))\n",
        "modelresnet.add(Dropout(0.5))\n",
        "modelresnet.add(Dense(512,activation=tf.keras.layers.LeakyReLU(0.3)))\n",
        "modelresnet.add(Dense(256,activation=tf.keras.layers.LeakyReLU(0.3)))\n",
        "modelresnet.add(Dropout(0.5))\n",
        "modelresnet.add(tf.keras.layers.Dense(10,activation='softmax'))\n"
      ],
      "execution_count": null,
      "outputs": []
    },
    {
      "cell_type": "code",
      "metadata": {
        "colab": {
          "base_uri": "https://localhost:8080/"
        },
        "id": "Go-gIbPXihK-",
        "outputId": "ff74bb1c-c0c8-4943-d24f-874ee0982ccc"
      },
      "source": [
        "modelresnet.compile(optimizer=COCOB(),loss='categorical_crossentropy',metrics=['accuracy'])\n",
        "history=modelresnet.fit(datagen.flow(x_tr,y_tr,batch_size=32),epochs=30,verbose=1,validation_data=datagentest.flow(x_test,y_test))"
      ],
      "execution_count": null,
      "outputs": [
        {
          "output_type": "stream",
          "text": [
            "Epoch 1/30\n",
            "481/481 [==============================] - 175s 262ms/step - loss: 8.7670 - accuracy: 0.2564 - val_loss: 4.8542 - val_accuracy: 0.1120\n",
            "Epoch 2/30\n",
            "481/481 [==============================] - 124s 257ms/step - loss: 1.4114 - accuracy: 0.4718 - val_loss: 2.4868 - val_accuracy: 0.2952\n",
            "Epoch 3/30\n",
            "481/481 [==============================] - 124s 257ms/step - loss: 1.2577 - accuracy: 0.5261 - val_loss: 0.8838 - val_accuracy: 0.6830\n",
            "Epoch 4/30\n",
            "481/481 [==============================] - 124s 257ms/step - loss: 1.0042 - accuracy: 0.6497 - val_loss: 1.2715 - val_accuracy: 0.6232\n",
            "Epoch 5/30\n",
            "481/481 [==============================] - 124s 257ms/step - loss: 0.8557 - accuracy: 0.7020 - val_loss: 0.5408 - val_accuracy: 0.8124\n",
            "Epoch 6/30\n",
            "481/481 [==============================] - 124s 257ms/step - loss: 0.7336 - accuracy: 0.7489 - val_loss: 0.6836 - val_accuracy: 0.7707\n",
            "Epoch 7/30\n",
            "481/481 [==============================] - 123s 257ms/step - loss: 0.6238 - accuracy: 0.7890 - val_loss: 0.5349 - val_accuracy: 0.8261\n",
            "Epoch 8/30\n",
            "481/481 [==============================] - 124s 257ms/step - loss: 0.5520 - accuracy: 0.8215 - val_loss: 0.6280 - val_accuracy: 0.7919\n",
            "Epoch 9/30\n",
            "481/481 [==============================] - 123s 257ms/step - loss: 0.4694 - accuracy: 0.8492 - val_loss: 0.4330 - val_accuracy: 0.8624\n",
            "Epoch 10/30\n",
            "481/481 [==============================] - 124s 257ms/step - loss: 0.4239 - accuracy: 0.8655 - val_loss: 0.3660 - val_accuracy: 0.8781\n",
            "Epoch 11/30\n",
            "481/481 [==============================] - 123s 257ms/step - loss: 0.3909 - accuracy: 0.8733 - val_loss: 0.3178 - val_accuracy: 0.8916\n",
            "Epoch 12/30\n",
            "481/481 [==============================] - 124s 257ms/step - loss: 0.3177 - accuracy: 0.8925 - val_loss: 0.4459 - val_accuracy: 0.8627\n",
            "Epoch 13/30\n",
            "481/481 [==============================] - 124s 257ms/step - loss: 0.2943 - accuracy: 0.9002 - val_loss: 0.5039 - val_accuracy: 0.8376\n",
            "Epoch 14/30\n",
            "481/481 [==============================] - 124s 257ms/step - loss: 0.2678 - accuracy: 0.9187 - val_loss: 0.4007 - val_accuracy: 0.8690\n",
            "Epoch 15/30\n",
            "481/481 [==============================] - 124s 257ms/step - loss: 0.2553 - accuracy: 0.9161 - val_loss: 0.3657 - val_accuracy: 0.8854\n",
            "Epoch 16/30\n",
            "481/481 [==============================] - 124s 257ms/step - loss: 0.2366 - accuracy: 0.9251 - val_loss: 0.9883 - val_accuracy: 0.7959\n",
            "Epoch 17/30\n",
            "481/481 [==============================] - 124s 257ms/step - loss: 0.2191 - accuracy: 0.9290 - val_loss: 0.7688 - val_accuracy: 0.8014\n",
            "Epoch 18/30\n",
            "481/481 [==============================] - 124s 257ms/step - loss: 0.2102 - accuracy: 0.9365 - val_loss: 0.2189 - val_accuracy: 0.9262\n",
            "Epoch 19/30\n",
            "481/481 [==============================] - 124s 257ms/step - loss: 0.1868 - accuracy: 0.9395 - val_loss: 0.5888 - val_accuracy: 0.8325\n",
            "Epoch 20/30\n",
            "481/481 [==============================] - 124s 257ms/step - loss: 0.1808 - accuracy: 0.9400 - val_loss: 0.1608 - val_accuracy: 0.9502\n",
            "Epoch 21/30\n",
            "481/481 [==============================] - 124s 257ms/step - loss: 0.1710 - accuracy: 0.9464 - val_loss: 0.2059 - val_accuracy: 0.9339\n",
            "Epoch 22/30\n",
            "481/481 [==============================] - 124s 257ms/step - loss: 0.1546 - accuracy: 0.9495 - val_loss: 0.1584 - val_accuracy: 0.9477\n",
            "Epoch 23/30\n",
            "481/481 [==============================] - 124s 257ms/step - loss: 0.1574 - accuracy: 0.9500 - val_loss: 0.3110 - val_accuracy: 0.8946\n",
            "Epoch 24/30\n",
            "481/481 [==============================] - 124s 257ms/step - loss: 0.1603 - accuracy: 0.9476 - val_loss: 0.1644 - val_accuracy: 0.9460\n",
            "Epoch 25/30\n",
            "481/481 [==============================] - 124s 257ms/step - loss: 0.1534 - accuracy: 0.9490 - val_loss: 0.1811 - val_accuracy: 0.9433\n",
            "Epoch 26/30\n",
            "481/481 [==============================] - 124s 258ms/step - loss: 0.1459 - accuracy: 0.9536 - val_loss: 0.3448 - val_accuracy: 0.8957\n",
            "Epoch 27/30\n",
            "481/481 [==============================] - 124s 257ms/step - loss: 0.1360 - accuracy: 0.9559 - val_loss: 0.1537 - val_accuracy: 0.9482\n",
            "Epoch 28/30\n",
            "481/481 [==============================] - 124s 258ms/step - loss: 0.1334 - accuracy: 0.9572 - val_loss: 0.3197 - val_accuracy: 0.8991\n",
            "Epoch 29/30\n",
            "481/481 [==============================] - 124s 258ms/step - loss: 0.1239 - accuracy: 0.9590 - val_loss: 0.1379 - val_accuracy: 0.9549\n",
            "Epoch 30/30\n",
            "481/481 [==============================] - 124s 258ms/step - loss: 0.1215 - accuracy: 0.9613 - val_loss: 0.1050 - val_accuracy: 0.9657\n"
          ],
          "name": "stdout"
        }
      ]
    },
    {
      "cell_type": "code",
      "metadata": {
        "colab": {
          "base_uri": "https://localhost:8080/"
        },
        "id": "gyBKi8tgi8Jd",
        "outputId": "824c7b92-150b-4f4a-ae95-7d401ab7c8ca"
      },
      "source": [
        "test_loss,test_accuracy=modelresnet.evaluate(datagentest.flow(x_cv,y_cv))  # test with the cross validation data\n",
        "print('accuracy=',test_accuracy)\n",
        "print('test_loss=',test_loss)"
      ],
      "execution_count": null,
      "outputs": [
        {
          "output_type": "stream",
          "text": [
            "26/26 [==============================] - 1s 54ms/step - loss: 0.1209 - accuracy: 0.9642\n",
            "accuracy= 0.9641975164413452\n",
            "test_loss= 0.12092258781194687\n"
          ],
          "name": "stdout"
        }
      ]
    },
    {
      "cell_type": "markdown",
      "metadata": {
        "id": "z9hiJR0MCvMC"
      },
      "source": [
        "#Inception Network"
      ]
    },
    {
      "cell_type": "code",
      "metadata": {
        "colab": {
          "base_uri": "https://localhost:8080/"
        },
        "id": "YlnqUcdpyMoS",
        "outputId": "c07602ec-4f36-4919-a68f-ca52686ad799"
      },
      "source": [
        "xception=Xception(weights='imagenet', include_top=False,input_shape=(100,100,3))"
      ],
      "execution_count": null,
      "outputs": [
        {
          "output_type": "stream",
          "text": [
            "Downloading data from https://storage.googleapis.com/tensorflow/keras-applications/xception/xception_weights_tf_dim_ordering_tf_kernels_notop.h5\n",
            "83689472/83683744 [==============================] - 0s 0us/step\n"
          ],
          "name": "stdout"
        }
      ]
    },
    {
      "cell_type": "code",
      "metadata": {
        "id": "boIEZE_yynHI"
      },
      "source": [
        "# we have sandwitched xception with our model and fine tuned\n",
        "modelxception=tf.keras.models.Sequential()\n",
        "modelxception.add(xception)\n",
        "# our model starts from here\n",
        "modelxception.add(Flatten())\n",
        "modelxception.add(Dense(1024,activation=tf.keras.layers.LeakyReLU(0.3)))\n",
        "modelxception.add(Dropout(0.5))\n",
        "modelxception.add(Dense(512,activation=tf.keras.layers.LeakyReLU(0.3)))\n",
        "modelxception.add(Dense(256,activation=tf.keras.layers.LeakyReLU(0.3)))\n",
        "modelxception.add(Dropout(0.5))\n",
        "modelxception.add(tf.keras.layers.Dense(10,activation='softmax'))\n"
      ],
      "execution_count": null,
      "outputs": []
    },
    {
      "cell_type": "code",
      "metadata": {
        "colab": {
          "base_uri": "https://localhost:8080/"
        },
        "id": "bQLbrd_Yysd7",
        "outputId": "1993039e-12c5-4812-f276-d457036e1fb4"
      },
      "source": [
        "modelxception.compile(optimizer=COCOB(),loss='categorical_crossentropy',metrics=['accuracy'])\n",
        "history=modelxception.fit(datagen.flow(x_tr,y_tr,batch_size=32),epochs=30,verbose=1,validation_data=datagentest.flow(x_test,y_test))"
      ],
      "execution_count": null,
      "outputs": [
        {
          "output_type": "stream",
          "text": [
            "Epoch 1/30\n",
            "481/481 [==============================] - 133s 246ms/step - loss: 2.3410 - accuracy: 0.2323 - val_loss: 1.8224 - val_accuracy: 0.2949\n",
            "Epoch 2/30\n",
            "481/481 [==============================] - 117s 242ms/step - loss: 0.9900 - accuracy: 0.6397 - val_loss: 0.4977 - val_accuracy: 0.8883\n",
            "Epoch 3/30\n",
            "481/481 [==============================] - 116s 242ms/step - loss: 0.4102 - accuracy: 0.8860 - val_loss: 0.1693 - val_accuracy: 0.9510\n",
            "Epoch 4/30\n",
            "481/481 [==============================] - 116s 242ms/step - loss: 0.2659 - accuracy: 0.9264 - val_loss: 0.1217 - val_accuracy: 0.9618\n",
            "Epoch 5/30\n",
            "481/481 [==============================] - 116s 242ms/step - loss: 0.2009 - accuracy: 0.9423 - val_loss: 0.2295 - val_accuracy: 0.9303\n",
            "Epoch 6/30\n",
            "481/481 [==============================] - 116s 242ms/step - loss: 0.1660 - accuracy: 0.9518 - val_loss: 0.0915 - val_accuracy: 0.9706\n",
            "Epoch 7/30\n",
            "481/481 [==============================] - 116s 242ms/step - loss: 0.1444 - accuracy: 0.9600 - val_loss: 0.0854 - val_accuracy: 0.9716\n",
            "Epoch 8/30\n",
            "481/481 [==============================] - 116s 242ms/step - loss: 0.1249 - accuracy: 0.9628 - val_loss: 0.1096 - val_accuracy: 0.9672\n",
            "Epoch 9/30\n",
            "481/481 [==============================] - 116s 242ms/step - loss: 0.1213 - accuracy: 0.9623 - val_loss: 0.1324 - val_accuracy: 0.9569\n",
            "Epoch 10/30\n",
            "481/481 [==============================] - 116s 242ms/step - loss: 0.1039 - accuracy: 0.9683 - val_loss: 0.0796 - val_accuracy: 0.9758\n",
            "Epoch 11/30\n",
            "481/481 [==============================] - 116s 242ms/step - loss: 0.0990 - accuracy: 0.9713 - val_loss: 0.0772 - val_accuracy: 0.9755\n",
            "Epoch 12/30\n",
            "481/481 [==============================] - 116s 242ms/step - loss: 0.0770 - accuracy: 0.9781 - val_loss: 0.0807 - val_accuracy: 0.9764\n",
            "Epoch 13/30\n",
            "481/481 [==============================] - 116s 242ms/step - loss: 0.0863 - accuracy: 0.9753 - val_loss: 0.0806 - val_accuracy: 0.9743\n",
            "Epoch 14/30\n",
            "481/481 [==============================] - 117s 242ms/step - loss: 0.0690 - accuracy: 0.9794 - val_loss: 0.0755 - val_accuracy: 0.9768\n",
            "Epoch 15/30\n",
            "481/481 [==============================] - 116s 242ms/step - loss: 0.0670 - accuracy: 0.9805 - val_loss: 0.0756 - val_accuracy: 0.9784\n",
            "Epoch 16/30\n",
            "481/481 [==============================] - 116s 242ms/step - loss: 0.0590 - accuracy: 0.9820 - val_loss: 0.0981 - val_accuracy: 0.9691\n",
            "Epoch 17/30\n",
            "481/481 [==============================] - 116s 242ms/step - loss: 0.0582 - accuracy: 0.9822 - val_loss: 0.0751 - val_accuracy: 0.9773\n",
            "Epoch 18/30\n",
            "481/481 [==============================] - 117s 242ms/step - loss: 0.0490 - accuracy: 0.9854 - val_loss: 0.1044 - val_accuracy: 0.9709\n",
            "Epoch 19/30\n",
            "481/481 [==============================] - 117s 242ms/step - loss: 0.0500 - accuracy: 0.9852 - val_loss: 0.0691 - val_accuracy: 0.9787\n",
            "Epoch 20/30\n",
            "481/481 [==============================] - 117s 242ms/step - loss: 0.0397 - accuracy: 0.9883 - val_loss: 0.0924 - val_accuracy: 0.9752\n",
            "Epoch 21/30\n",
            "481/481 [==============================] - 117s 243ms/step - loss: 0.0550 - accuracy: 0.9832 - val_loss: 0.0785 - val_accuracy: 0.9769\n",
            "Epoch 22/30\n",
            "481/481 [==============================] - 117s 243ms/step - loss: 0.0462 - accuracy: 0.9859 - val_loss: 0.0647 - val_accuracy: 0.9814\n",
            "Epoch 23/30\n",
            "481/481 [==============================] - 117s 243ms/step - loss: 0.0403 - accuracy: 0.9879 - val_loss: 0.0693 - val_accuracy: 0.9799\n",
            "Epoch 24/30\n",
            "481/481 [==============================] - 117s 242ms/step - loss: 0.0441 - accuracy: 0.9876 - val_loss: 0.0713 - val_accuracy: 0.9797\n",
            "Epoch 25/30\n",
            "481/481 [==============================] - 117s 243ms/step - loss: 0.0450 - accuracy: 0.9890 - val_loss: 0.0686 - val_accuracy: 0.9812\n",
            "Epoch 26/30\n",
            "481/481 [==============================] - 117s 243ms/step - loss: 0.0378 - accuracy: 0.9890 - val_loss: 0.0783 - val_accuracy: 0.9799\n",
            "Epoch 27/30\n",
            "481/481 [==============================] - 117s 243ms/step - loss: 0.0314 - accuracy: 0.9897 - val_loss: 0.0782 - val_accuracy: 0.9793\n",
            "Epoch 28/30\n",
            "481/481 [==============================] - 117s 243ms/step - loss: 0.0343 - accuracy: 0.9903 - val_loss: 0.0719 - val_accuracy: 0.9801\n",
            "Epoch 29/30\n",
            "481/481 [==============================] - 117s 243ms/step - loss: 0.0255 - accuracy: 0.9915 - val_loss: 0.0695 - val_accuracy: 0.9811\n",
            "Epoch 30/30\n",
            "481/481 [==============================] - 117s 243ms/step - loss: 0.0291 - accuracy: 0.9920 - val_loss: 0.0689 - val_accuracy: 0.9797\n"
          ],
          "name": "stdout"
        }
      ]
    },
    {
      "cell_type": "code",
      "metadata": {
        "colab": {
          "base_uri": "https://localhost:8080/"
        },
        "id": "KsodOEvKzBta",
        "outputId": "921d557f-f323-4b85-e913-e311fbb360fc"
      },
      "source": [
        "test_loss,test_accuracy=modelxception.evaluate(datagentest.flow(x_cv,y_cv))  # test with the cross validation data\n",
        "print('accuracy=',test_accuracy)\n",
        "print('test_loss=',test_loss)"
      ],
      "execution_count": null,
      "outputs": [
        {
          "output_type": "stream",
          "text": [
            "26/26 [==============================] - 1s 46ms/step - loss: 0.0620 - accuracy: 0.9864\n",
            "accuracy= 0.9864197373390198\n",
            "test_loss= 0.062034621834754944\n"
          ],
          "name": "stdout"
        }
      ]
    },
    {
      "cell_type": "code",
      "metadata": {
        "colab": {
          "base_uri": "https://localhost:8080/",
          "height": 573
        },
        "id": "2t1ssq9MAZwY",
        "outputId": "0c09b3c4-525a-4b7b-b552-80aab389a646"
      },
      "source": [
        "# summarize history for accuracy\n",
        "plt.plot(history.history['accuracy'])\n",
        "plt.plot(history.history['val_accuracy'])\n",
        "plt.title('model accuracy')\n",
        "plt.ylabel('accuracy')\n",
        "plt.xlabel('epoch')\n",
        "plt.legend(['train', 'test'], loc='upper left')\n",
        "plt.show()\n",
        "# summarize history for loss\n",
        "plt.plot(history.history['loss'])\n",
        "plt.plot(history.history['val_loss'])\n",
        "plt.title('model loss')\n",
        "plt.ylabel('loss')\n",
        "plt.xlabel('epoch')\n",
        "plt.legend(['train', 'test'], loc='upper left')\n",
        "plt.show()"
      ],
      "execution_count": null,
      "outputs": [
        {
          "output_type": "display_data",
          "data": {
            "image/png": "[encoded data removed]",
            "text/plain": [
              "<Figure size 432x288 with 1 Axes>"
            ]
          },
          "metadata": {
            "tags": [],
            "needs_background": "light"
          }
        },
        {
          "output_type": "display_data",
          "data": {
            "image/png": "[encoded data removed]",
            "text/plain": [
              "<Figure size 432x288 with 1 Axes>"
            ]
          },
          "metadata": {
            "tags": [],
            "needs_background": "light"
          }
        }
      ]
    },
    {
      "cell_type": "code",
      "metadata": {
        "colab": {
          "base_uri": "https://localhost:8080/"
        },
        "id": "2e6z1UxbAqfk",
        "outputId": "9f1e6e5e-d31c-4345-cac0-9d029218544a"
      },
      "source": [
        "modelxception.save('xception_model_cocob.h5')"
      ],
      "execution_count": null,
      "outputs": [
        {
          "output_type": "stream",
          "text": [
            "WARNING:tensorflow:TensorFlow optimizers do not make it possible to access optimizer attributes or optimizer state after instantiation. As a result, we cannot save the optimizer as part of the model save file. You will have to compile your model again after loading it. Prefer using a Keras optimizer instead (see keras.io/optimizers).\n"
          ],
          "name": "stdout"
        }
      ]
    },
    {
      "cell_type": "code",
      "metadata": {
        "colab": {
          "base_uri": "https://localhost:8080/"
        },
        "id": "KiMtoMBKBvfU",
        "outputId": "2960af07-bdc1-49b1-908b-bc26563a0b65"
      },
      "source": [
        "tf.keras.models.save_model(\n",
        "    modelxception, '/content/', overwrite=True, include_optimizer=True, save_format=None,\n",
        "    signatures=None, options=None, save_traces=True\n",
        ")"
      ],
      "execution_count": null,
      "outputs": [
        {
          "output_type": "stream",
          "text": [
            "WARNING:tensorflow:TensorFlow optimizers do not make it possible to access optimizer attributes or optimizer state after instantiation. As a result, we cannot save the optimizer as part of the model save file. You will have to compile your model again after loading it. Prefer using a Keras optimizer instead (see keras.io/optimizers).\n"
          ],
          "name": "stdout"
        },
        {
          "output_type": "stream",
          "text": [
            "WARNING:absl:Found untraced functions such as leaky_re_lu_3_layer_call_fn, leaky_re_lu_3_layer_call_and_return_conditional_losses, leaky_re_lu_4_layer_call_fn, leaky_re_lu_4_layer_call_and_return_conditional_losses, leaky_re_lu_5_layer_call_fn while saving (showing 5 of 15). These functions will not be directly callable after loading.\n",
            "WARNING:absl:Found untraced functions such as leaky_re_lu_3_layer_call_fn, leaky_re_lu_3_layer_call_and_return_conditional_losses, leaky_re_lu_4_layer_call_fn, leaky_re_lu_4_layer_call_and_return_conditional_losses, leaky_re_lu_5_layer_call_fn while saving (showing 5 of 15). These functions will not be directly callable after loading.\n"
          ],
          "name": "stderr"
        },
        {
          "output_type": "stream",
          "text": [
            "WARNING:tensorflow:TensorFlow optimizers do not make it possible to access optimizer attributes or optimizer state after instantiation. As a result, we cannot save the optimizer as part of the model save file. You will have to compile your model again after loading it. Prefer using a Keras optimizer instead (see keras.io/optimizers).\n"
          ],
          "name": "stdout"
        },
        {
          "output_type": "stream",
          "text": [
            "WARNING:tensorflow:TensorFlow optimizers do not make it possible to access optimizer attributes or optimizer state after instantiation. As a result, we cannot save the optimizer as part of the model save file. You will have to compile your model again after loading it. Prefer using a Keras optimizer instead (see keras.io/optimizers).\n"
          ],
          "name": "stderr"
        },
        {
          "output_type": "stream",
          "text": [
            "INFO:tensorflow:Assets written to: /content/assets\n"
          ],
          "name": "stdout"
        },
        {
          "output_type": "stream",
          "text": [
            "INFO:tensorflow:Assets written to: /content/assets\n"
          ],
          "name": "stderr"
        }
      ]
    },
    {
      "cell_type": "code",
      "metadata": {
        "colab": {
          "base_uri": "https://localhost:8080/",
          "height": 350
        },
        "id": "wYcY4w3NA6-Q",
        "outputId": "d040a939-1cb3-4795-fb57-1880754f9b95"
      },
      "source": [
        "modelxception.save_weights('weights.h5')\n",
        "symbolic_weights = getattr(modelxception.optimizer, 'weights')\n",
        "weight_values = K.batch_get_value(symbolic_weights)\n",
        "with open('optimizer.pkl', 'wb') as f:\n",
        "    pickle.dump(weight_values, f)"
      ],
      "execution_count": null,
      "outputs": [
        {
          "output_type": "error",
          "ename": "NotImplementedError",
          "evalue": "ignored",
          "traceback": [
            "\u001b[0;31m---------------------------------------------------------------------------\u001b[0m",
            "\u001b[0;31mNotImplementedError\u001b[0m                       Traceback (most recent call last)",
            "\u001b[0;32m<ipython-input-26-85eccc51c4f5>\u001b[0m in \u001b[0;36m<module>\u001b[0;34m()\u001b[0m\n\u001b[1;32m      1\u001b[0m \u001b[0mmodelxception\u001b[0m\u001b[0;34m.\u001b[0m\u001b[0msave_weights\u001b[0m\u001b[0;34m(\u001b[0m\u001b[0;34m'weights.h5'\u001b[0m\u001b[0;34m)\u001b[0m\u001b[0;34m\u001b[0m\u001b[0;34m\u001b[0m\u001b[0m\n\u001b[0;32m----> 2\u001b[0;31m \u001b[0msymbolic_weights\u001b[0m \u001b[0;34m=\u001b[0m \u001b[0mgetattr\u001b[0m\u001b[0;34m(\u001b[0m\u001b[0mmodelxception\u001b[0m\u001b[0;34m.\u001b[0m\u001b[0moptimizer\u001b[0m\u001b[0;34m,\u001b[0m \u001b[0;34m'weights'\u001b[0m\u001b[0;34m)\u001b[0m\u001b[0;34m\u001b[0m\u001b[0;34m\u001b[0m\u001b[0m\n\u001b[0m\u001b[1;32m      3\u001b[0m \u001b[0mweight_values\u001b[0m \u001b[0;34m=\u001b[0m \u001b[0mK\u001b[0m\u001b[0;34m.\u001b[0m\u001b[0mbatch_get_value\u001b[0m\u001b[0;34m(\u001b[0m\u001b[0msymbolic_weights\u001b[0m\u001b[0;34m)\u001b[0m\u001b[0;34m\u001b[0m\u001b[0;34m\u001b[0m\u001b[0m\n\u001b[1;32m      4\u001b[0m \u001b[0;32mwith\u001b[0m \u001b[0mopen\u001b[0m\u001b[0;34m(\u001b[0m\u001b[0;34m'optimizer.pkl'\u001b[0m\u001b[0;34m,\u001b[0m \u001b[0;34m'wb'\u001b[0m\u001b[0;34m)\u001b[0m \u001b[0;32mas\u001b[0m \u001b[0mf\u001b[0m\u001b[0;34m:\u001b[0m\u001b[0;34m\u001b[0m\u001b[0;34m\u001b[0m\u001b[0m\n\u001b[1;32m      5\u001b[0m     \u001b[0mpickle\u001b[0m\u001b[0;34m.\u001b[0m\u001b[0mdump\u001b[0m\u001b[0;34m(\u001b[0m\u001b[0mweight_values\u001b[0m\u001b[0;34m,\u001b[0m \u001b[0mf\u001b[0m\u001b[0;34m)\u001b[0m\u001b[0;34m\u001b[0m\u001b[0;34m\u001b[0m\u001b[0m\n",
            "\u001b[0;32m/usr/local/lib/python3.7/dist-packages/tensorflow/python/keras/optimizer_v1.py\u001b[0m in \u001b[0;36mweights\u001b[0;34m(self)\u001b[0m\n\u001b[1;32m    820\u001b[0m   \u001b[0;34m@\u001b[0m\u001b[0mproperty\u001b[0m\u001b[0;34m\u001b[0m\u001b[0;34m\u001b[0m\u001b[0m\n\u001b[1;32m    821\u001b[0m   \u001b[0;32mdef\u001b[0m \u001b[0mweights\u001b[0m\u001b[0;34m(\u001b[0m\u001b[0mself\u001b[0m\u001b[0;34m)\u001b[0m\u001b[0;34m:\u001b[0m\u001b[0;34m\u001b[0m\u001b[0;34m\u001b[0m\u001b[0m\n\u001b[0;32m--> 822\u001b[0;31m     \u001b[0;32mraise\u001b[0m \u001b[0mNotImplementedError\u001b[0m\u001b[0;34m\u001b[0m\u001b[0;34m\u001b[0m\u001b[0m\n\u001b[0m\u001b[1;32m    823\u001b[0m \u001b[0;34m\u001b[0m\u001b[0m\n\u001b[1;32m    824\u001b[0m   \u001b[0;32mdef\u001b[0m \u001b[0mget_config\u001b[0m\u001b[0;34m(\u001b[0m\u001b[0mself\u001b[0m\u001b[0;34m)\u001b[0m\u001b[0;34m:\u001b[0m\u001b[0;34m\u001b[0m\u001b[0;34m\u001b[0m\u001b[0m\n",
            "\u001b[0;31mNotImplementedError\u001b[0m: "
          ]
        }
      ]
    },
    {
      "cell_type": "code",
      "metadata": {
        "id": "e9N8u191Djmq"
      },
      "source": [
        ""
      ],
      "execution_count": null,
      "outputs": []
    }
  ]
}